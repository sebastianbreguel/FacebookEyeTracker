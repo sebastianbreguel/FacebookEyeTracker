{
 "cells": [
  {
   "cell_type": "code",
   "execution_count": 2,
   "metadata": {},
   "outputs": [],
   "source": [
    "import pandas as pd\n",
    "import json\n",
    "from datetime import datetime, timedelta\n",
    "import os\n",
    "\n",
    "root = \"eye_trackers\"\n",
    "\n",
    "\n",
    "# print(\"Generating heatmap\")\n",
    "input_file = f\"my_gaze_data_bea\"\n",
    "\n",
    "os.system(f\"python ../gazeProcess.py {input_file}.csv {input_file}_clean.csv 1920 1080\")"
   ]
  },
  {
   "cell_type": "code",
   "execution_count": 1,
   "metadata": {},
   "outputs": [
    {
     "ename": "NameError",
     "evalue": "name 'pd' is not defined",
     "output_type": "error",
     "traceback": [
      "\u001b[1;31m---------------------------------------------------------------------------\u001b[0m",
      "\u001b[1;31mNameError\u001b[0m                                 Traceback (most recent call last)",
      "\u001b[1;32mC:\\Users\\NELSON~1\\AppData\\Local\\Temp/ipykernel_6132/882006643.py\u001b[0m in \u001b[0;36m<module>\u001b[1;34m\u001b[0m\n\u001b[0;32m      1\u001b[0m \u001b[0mroot\u001b[0m \u001b[1;33m=\u001b[0m \u001b[1;34m\"data/sebas/\"\u001b[0m\u001b[1;33m\u001b[0m\u001b[1;33m\u001b[0m\u001b[0m\n\u001b[1;32m----> 2\u001b[1;33m \u001b[0mdf\u001b[0m \u001b[1;33m=\u001b[0m \u001b[0mpd\u001b[0m\u001b[1;33m.\u001b[0m\u001b[0mread_csv\u001b[0m\u001b[1;33m(\u001b[0m\u001b[1;34mf\"{root}/gaze_clean.csv\"\u001b[0m\u001b[1;33m)\u001b[0m\u001b[1;33m\u001b[0m\u001b[1;33m\u001b[0m\u001b[0m\n\u001b[0m\u001b[0;32m      3\u001b[0m \u001b[1;33m\u001b[0m\u001b[0m\n\u001b[0;32m      4\u001b[0m \u001b[1;32mwith\u001b[0m \u001b[0mopen\u001b[0m\u001b[1;33m(\u001b[0m\u001b[1;34m\"answers.json\"\u001b[0m\u001b[1;33m,\u001b[0m \u001b[1;34m\"r\"\u001b[0m\u001b[1;33m)\u001b[0m \u001b[1;32mas\u001b[0m \u001b[0mfile\u001b[0m\u001b[1;33m:\u001b[0m\u001b[1;33m\u001b[0m\u001b[1;33m\u001b[0m\u001b[0m\n\u001b[0;32m      5\u001b[0m     \u001b[0mjson_data\u001b[0m \u001b[1;33m=\u001b[0m \u001b[0mjson\u001b[0m\u001b[1;33m.\u001b[0m\u001b[0mload\u001b[0m\u001b[1;33m(\u001b[0m\u001b[0mfile\u001b[0m\u001b[1;33m)\u001b[0m\u001b[1;33m\u001b[0m\u001b[1;33m\u001b[0m\u001b[0m\n",
      "\u001b[1;31mNameError\u001b[0m: name 'pd' is not defined"
     ]
    }
   ],
   "source": [
    "root = \"data/sebas/\"\n",
    "df = pd.read_csv(f\"{root}/gaze_clean.csv\")\n",
    "\n",
    "with open(\"answers.json\", \"r\") as file:\n",
    "    json_data = json.load(file)\n",
    "\n",
    "json_obj = json_data[0]\n",
    "\n",
    "initial_date = datetime.strptime(json_obj[\"initialDate\"], \"%Y-%m-%dT%H:%M:%S.%fZ\")\n",
    "df[\"current_time\"] = pd.to_datetime(df[\"current_time\"], format=\"%Y-%m-%dT%H:%M:%S.%fZ\")\n",
    "\n",
    "# Step 1: Create a new DataFrame with the rows where `time_difference` is less than zero\n",
    "last_time_seconds = df[df[\"current_time\"] - initial_date < timedelta(seconds=0)][\n",
    "    \"time_seconds\"\n",
    "].iloc[-1]\n",
    "\n",
    "# Step 2: Remove all rows where `time_seconds` is less than 0\n",
    "df[\"time_seconds\"] = df[\"time_seconds\"] - last_time_seconds\n",
    "df = df[df[\"time_seconds\"] >= 0]\n",
    "\n",
    "# Reset the index\n",
    "df.reset_index(drop=True, inplace=True)\n",
    "\n",
    "# Initialize the postID column\n",
    "df[\"postID\"] = None\n",
    "\n",
    "# Iterate through each JSON object to assign postID\n",
    "for obj in json_data:\n",
    "    post_start_time = obj[\"PostStartTime\"]\n",
    "    post_end_time = obj[\"PostEndTime\"]\n",
    "    post_id = obj[\"postID\"]\n",
    "\n",
    "    # Assign `postID` based on `PostStartTime` and `PostEndTime`\n",
    "    df.loc[\n",
    "        (df[\"time_seconds\"] >= post_start_time) & (df[\"time_seconds\"] <= post_end_time),\n",
    "        \"postID\",\n",
    "    ] = post_id\n",
    "\n",
    "# Remove all rows where `postID` is None\n",
    "df = df[df[\"postID\"].notna()]"
   ]
  },
  {
   "cell_type": "code",
   "execution_count": 11,
   "metadata": {},
   "outputs": [
    {
     "name": "stdout",
     "output_type": "stream",
     "text": [
      "Created file: eye_trackers/my_gaze_bea_4.csv\n",
      "Created file: eye_trackers/my_gaze_bea_7.csv\n",
      "Created file: eye_trackers/my_gaze_bea_1.csv\n",
      "Created file: eye_trackers/my_gaze_bea_6.csv\n",
      "Created file: eye_trackers/my_gaze_bea_2.csv\n",
      "Created file: eye_trackers/my_gaze_bea_5.csv\n"
     ]
    }
   ],
   "source": [
    "unique_post_ids = df[\"postID\"].unique()\n",
    "\n",
    "for post_id in unique_post_ids:\n",
    "    post_id_df = df[df[\"postID\"] == post_id].drop(columns=[\"postID\", \"current_time\"])\n",
    "    post_id_df[\"y\"] = post_id_df[\"y\"] - 50\n",
    "    post_id_df = post_id_df[\n",
    "        [\"x\", \"y\"] + [col for col in post_id_df.columns if col not in [\"x\", \"y\"]]\n",
    "    ]\n",
    "    file_name = f\"{root}/my_gaze_bea_{int(post_id)}.csv\"\n",
    "    post_id_df.to_csv(file_name, index=False)\n",
    "    print(f\"Created file: {file_name}\")"
   ]
  },
  {
   "cell_type": "code",
   "execution_count": 12,
   "metadata": {},
   "outputs": [],
   "source": [
    "import os\n",
    "\n",
    "# run generate.py\n",
    "run = [1, 2, 4, 6, 7]\n",
    "\n",
    "width = 1920\n",
    "height = 1080\n",
    "base = \"images/\"\n",
    "\n",
    "# print(\"Generating heatmap\")\n",
    "input_file = f\"{root}/my_gaze_bea_\"\n",
    "for image in run:\n",
    "    os.system(\n",
    "        f\"python ../gazeheatplot.py {input_file}{image}.csv {width} {height} -b {base}{image}.png -o images/heatmap_{image}.png\"\n",
    "    )"
   ]
  },
  {
   "cell_type": "code",
   "execution_count": null,
   "metadata": {},
   "outputs": [],
   "source": []
  }
 ],
 "metadata": {
  "kernelspec": {
   "display_name": "Python 3.8.2 64-bit",
   "language": "python",
   "name": "python3"
  },
  "language_info": {
   "codemirror_mode": {
    "name": "ipython",
    "version": 3
   },
   "file_extension": ".py",
   "mimetype": "text/x-python",
   "name": "python",
   "nbconvert_exporter": "python",
   "pygments_lexer": "ipython3",
   "version": "3.8.2"
  },
  "vscode": {
   "interpreter": {
    "hash": "505253d105b125c1a8bc43ecda4ad535cbcff41c3e44ba42e5d0bb4f0ebdc305"
   }
  }
 },
 "nbformat": 4,
 "nbformat_minor": 2
}
