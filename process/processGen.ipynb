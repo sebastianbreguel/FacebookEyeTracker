{
 "cells": [
  {
   "cell_type": "code",
   "execution_count": 9,
   "metadata": {},
   "outputs": [
    {
     "data": {
      "text/plain": [
       "0"
      ]
     },
     "execution_count": 9,
     "metadata": {},
     "output_type": "execute_result"
    }
   ],
   "source": [
    "import pandas as pd\n",
    "import json\n",
    "from datetime import datetime, timedelta\n",
    "import os\n",
    "\n",
    "root = \"eye_trackers\"\n",
    "\n",
    "\n",
    "# print(\"Generating heatmap\")\n",
    "input_file = f\"my_gaze_data_bea\"\n",
    "\n",
    "os.system(\n",
    "    f\"python ../gazeProcess.py {input_file}.csv {input_file}_clean.csv 1920 1080\"\n",
    ")\n"
   ]
  },
  {
   "cell_type": "code",
   "execution_count": 10,
   "metadata": {},
   "outputs": [],
   "source": [
    "df = pd.read_csv(f'{root}/{input_file}_clean.csv')\n",
    "\n",
    "with open('answers.json', 'r') as file:\n",
    "    json_data = json.load(file)\n",
    "\n",
    "json_obj = json_data[0]\n",
    "\n",
    "initial_date = datetime.strptime(json_obj[\"initialDate\"], \"%Y-%m-%dT%H:%M:%S.%fZ\")\n",
    "df['current_time'] = pd.to_datetime(df['current_time'], format=\"%Y-%m-%dT%H:%M:%S.%fZ\")\n",
    "\n",
    "# Step 1: Create a new DataFrame with the rows where `time_difference` is less than zero\n",
    "last_time_seconds = df[df['current_time'] - initial_date < timedelta(seconds=0)]['time_seconds'].iloc[-1]\n",
    "\n",
    "# Step 2: Remove all rows where `time_seconds` is less than 0\n",
    "df['time_seconds'] = df['time_seconds'] - last_time_seconds\n",
    "df = df[df['time_seconds'] >= 0]\n",
    "\n",
    "# Reset the index\n",
    "df.reset_index(drop=True, inplace=True)\n",
    "\n",
    "# Initialize the postID column\n",
    "df['postID'] = None\n",
    "\n",
    "# Iterate through each JSON object to assign postID\n",
    "for obj in json_data:\n",
    "    post_start_time = obj[\"PostStartTime\"]\n",
    "    post_end_time = obj[\"PostEndTime\"]\n",
    "    post_id = obj[\"postID\"]\n",
    "    \n",
    "    # Assign `postID` based on `PostStartTime` and `PostEndTime`\n",
    "    df.loc[(df['time_seconds'] >= post_start_time) & (df['time_seconds'] <= post_end_time), 'postID'] = post_id\n",
    "\n",
    "# Remove all rows where `postID` is None\n",
    "df = df[df['postID'].notna()]"
   ]
  },
  {
   "cell_type": "code",
   "execution_count": 11,
   "metadata": {},
   "outputs": [
    {
     "name": "stdout",
     "output_type": "stream",
     "text": [
      "Created file: eye_trackers/my_gaze_bea_4.csv\n",
      "Created file: eye_trackers/my_gaze_bea_7.csv\n",
      "Created file: eye_trackers/my_gaze_bea_1.csv\n",
      "Created file: eye_trackers/my_gaze_bea_6.csv\n",
      "Created file: eye_trackers/my_gaze_bea_2.csv\n",
      "Created file: eye_trackers/my_gaze_bea_5.csv\n"
     ]
    }
   ],
   "source": [
    "unique_post_ids = df['postID'].unique()\n",
    "\n",
    "for post_id in unique_post_ids:\n",
    "    post_id_df = df[df['postID'] == post_id].drop(columns=['postID', 'current_time'])\n",
    "    post_id_df['y'] =  post_id_df['y'] - 50\n",
    "    post_id_df = post_id_df[['x', 'y'] + [col for col in post_id_df.columns if col not in ['x', 'y']]]\n",
    "    file_name = f'{root}/my_gaze_bea_{int(post_id)}.csv'\n",
    "    post_id_df.to_csv(file_name, index=False)\n",
    "    print(f\"Created file: {file_name}\")"
   ]
  },
  {
   "cell_type": "code",
   "execution_count": 12,
   "metadata": {},
   "outputs": [],
   "source": [
    "import os\n",
    "\n",
    "# run generate.py\n",
    "run = [1, 2, 4, 6, 7]\n",
    "\n",
    "width = 1920\n",
    "height = 1080\n",
    "base = \"images/\"\n",
    "\n",
    "# print(\"Generating heatmap\")\n",
    "input_file = f\"{root}/my_gaze_bea_\"\n",
    "for image in run:\n",
    "\n",
    "    os.system(\n",
    "    f\"python ../gazeheatplot.py {input_file}{image}.csv {width} {height} -b {base}{image}.png -o images/heatmap_{image}.png\"\n",
    "    )\n"
   ]
  },
  {
   "cell_type": "code",
   "execution_count": null,
   "metadata": {},
   "outputs": [],
   "source": []
  }
 ],
 "metadata": {
  "kernelspec": {
   "display_name": "Python 3.8.2 64-bit",
   "language": "python",
   "name": "python3"
  },
  "language_info": {
   "codemirror_mode": {
    "name": "ipython",
    "version": 3
   },
   "file_extension": ".py",
   "mimetype": "text/x-python",
   "name": "python",
   "nbconvert_exporter": "python",
   "pygments_lexer": "ipython3",
   "version": "3.8.2"
  },
  "vscode": {
   "interpreter": {
    "hash": "505253d105b125c1a8bc43ecda4ad535cbcff41c3e44ba42e5d0bb4f0ebdc305"
   }
  }
 },
 "nbformat": 4,
 "nbformat_minor": 2
}
