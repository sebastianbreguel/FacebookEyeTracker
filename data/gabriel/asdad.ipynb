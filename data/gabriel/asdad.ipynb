{
 "cells": [
  {
   "cell_type": "code",
   "execution_count": 15,
   "metadata": {},
   "outputs": [
    {
     "name": "stdout",
     "output_type": "stream",
     "text": [
      "Collecting opencv-python\n",
      "  Downloading opencv_python-4.10.0.84-cp37-abi3-macosx_11_0_arm64.whl.metadata (20 kB)\n",
      "Requirement already satisfied: numpy>=1.21.2 in /Users/veser/miniconda3/envs/eye_tracker/lib/python3.12/site-packages (from opencv-python) (1.26.4)\n",
      "Downloading opencv_python-4.10.0.84-cp37-abi3-macosx_11_0_arm64.whl (54.8 MB)\n",
      "\u001b[2K   \u001b[90m━━━━━━━━━━━━━━━━━━━━━━━━━━━━━━━━━━━━━━━━\u001b[0m \u001b[32m54.8/54.8 MB\u001b[0m \u001b[31m3.0 MB/s\u001b[0m eta \u001b[36m0:00:00\u001b[0m00:01\u001b[0m00:01\u001b[0m\n",
      "\u001b[?25hInstalling collected packages: opencv-python\n",
      "Successfully installed opencv-python-4.10.0.84\n"
     ]
    }
   ],
   "source": [
    "!pip install opencv-python"
   ]
  },
  {
   "cell_type": "code",
   "execution_count": 1,
   "metadata": {},
   "outputs": [],
   "source": [
    "# Define la función euclidean_distance si no está definida\n",
    "def euclidean_distance(x1, y1, x2, y2):\n",
    "    return np.sqrt((x2 - x1) ** 2 + (y2 - y1) ** 2)"
   ]
  },
  {
   "cell_type": "code",
   "execution_count": 14,
   "metadata": {},
   "outputs": [],
   "source": [
    "import json\n",
    "import os\n",
    "from datetime import datetime, timedelta\n",
    "import pandas as pd\n",
    "\n",
    "\n",
    "def load_gaze_data(file_path):\n",
    "    df = pd.read_csv(file_path)\n",
    "    df[\"current_time\"] = pd.to_datetime(\n",
    "        df[\"current_time\"], format=\"%Y-%m-%dT%H:%M:%S.%fZ\"\n",
    "    )\n",
    "    return df\n",
    "\n",
    "\n",
    "def load_json_data(file_path):\n",
    "    with open(file_path, \"r\") as file:\n",
    "        json_data = json.load(file)\n",
    "    return json_data\n",
    "\n",
    "\n",
    "def process_gaze_data(df, json_data):\n",
    "    # Step 1: initial date and first time\n",
    "    initial_date = datetime.strptime(\n",
    "        json_data[0][\"initialDate\"], \"%Y-%m-%dT%H:%M:%S.%fZ\"\n",
    "    )\n",
    "    last_time_seconds = df[df[\"current_time\"] - initial_date < timedelta(seconds=0)]\n",
    "    if last_time_seconds.empty:\n",
    "        less = df[\"current_time\"].loc[0]\n",
    "        last_time_seconds = -abs(less - initial_date).total_seconds()\n",
    "    else:\n",
    "        last_time_seconds = last_time_seconds[\"time_seconds\"].iloc[-1]\n",
    "\n",
    "    # Step 2: Remove all rows where `time_seconds` is less than 0\n",
    "    df[\"time_seconds\"] = df[\"time_seconds\"] - last_time_seconds\n",
    "    df = df[df[\"time_seconds\"] >= 0].reset_index(drop=True)\n",
    "    df[\"postID\"] = None\n",
    "\n",
    "    # Step 3: Assign postID based on PostStartTime and PostEndTime\n",
    "    for obj in json_data:\n",
    "        post_start_time = obj[\"PostStartTime\"]\n",
    "        post_end_time = obj[\"PostEndTime\"]\n",
    "        post_id = obj[\"postID\"]\n",
    "\n",
    "        df.loc[\n",
    "            (df[\"time_seconds\"] >= post_start_time)\n",
    "            & (df[\"time_seconds\"] <= post_end_time),\n",
    "            \"postID\",\n",
    "        ] = post_id\n",
    "\n",
    "    # Step 4: Remove all rows where `postID` is None\n",
    "    df = df[df[\"postID\"].notna()].reset_index(drop=True)\n",
    "    print(\"dataframe filtered\", df)\n",
    "    return df\n",
    "\n",
    "\n",
    "def process_screenshots(screenshots_folder, json_data):\n",
    "    # Step 1: Get the list of screenshot files\n",
    "    screenshot_files = os.listdir(screenshots_folder)\n",
    "    screenshot_files = [file for file in screenshot_files if file.endswith(\".png\")]\n",
    "    screenshot_assignments = []\n",
    "\n",
    "    # Step 2: Assign postID based on screenshot timestamp\n",
    "    for file in screenshot_files:\n",
    "        timestamp_str = (\n",
    "            file.replace(\"screenshot_\", \"\").replace(\".png\", \"\").replace(\"_\", \":\")\n",
    "        )\n",
    "        screenshot_time = datetime.strptime(timestamp_str, \"%Y-%m-%dT%H:%M:%S\")\n",
    "        assigned_post_id = None\n",
    "        for obj in json_data:\n",
    "            initial_date = datetime.strptime(\n",
    "                obj[\"initialDate\"], \"%Y-%m-%dT%H:%M:%S.%fZ\"\n",
    "            )\n",
    "            post_start_time = initial_date + timedelta(seconds=obj[\"PostStartTime\"])\n",
    "            post_end_time = initial_date + timedelta(seconds=obj[\"PostEndTime\"])\n",
    "\n",
    "            if post_start_time <= screenshot_time <= post_end_time:\n",
    "                assigned_post_id = obj[\"postID\"]\n",
    "                break\n",
    "\n",
    "        screenshot_assignments.append(\n",
    "            {\n",
    "                \"filename\": file,\n",
    "                \"screenshot_time\": screenshot_time,\n",
    "                \"postID\": assigned_post_id,\n",
    "            }\n",
    "        )\n",
    "\n",
    "    # Step 3: Create a DataFrame with the assignments\n",
    "    screenshot_df = pd.DataFrame(screenshot_assignments)\n",
    "    screenshot_df = screenshot_df[screenshot_df[\"postID\"].notna()].reset_index(\n",
    "        drop=True\n",
    "    )\n",
    "    screenshot_df = screenshot_df.drop_duplicates(subset=\"postID\", keep=\"first\")\n",
    "    screenshot_df.sort_values(by=\"screenshot_time\", inplace=True)\n",
    "    return screenshot_df\n",
    "\n",
    "\n",
    "def assign_screenshot_filenames(df, screenshot_df):\n",
    "    screenshot_df[\"postID\"] = screenshot_df[\"postID\"].astype(int)\n",
    "    postID_to_filename = screenshot_df.set_index(\"postID\")[\"filename\"].to_dict()\n",
    "    df[\"screenshot_filename\"] = df[\"postID\"].map(postID_to_filename)\n",
    "    return df\n",
    "\n",
    "\n",
    "def save_split_files(df, output_folder, name):\n",
    "    os.makedirs(output_folder, exist_ok=True)\n",
    "    unique_post_ids = df[\"postID\"].unique()\n",
    "\n",
    "    for post_id in unique_post_ids:\n",
    "        df_filtered = df[df[\"postID\"] == post_id]\n",
    "        filename = f\"{name}_gaze_{post_id}.csv\"\n",
    "        df_filtered[\"x\"] = df_filtered[\"x\"].astype(int)\n",
    "        df_filtered[\"y\"] = df_filtered[\"y\"].astype(int)\n",
    "        df_filtered.to_csv(os.path.join(output_folder, filename), index=False)\n",
    "\n",
    "    print(f\"Archivos CSV creados en la carpeta {output_folder}\")\n",
    "\n",
    "\n",
    "def main():\n",
    "    name = \"gabriel\"\n",
    "\n",
    "    root = f\"\"\n",
    "    input_file = root + \"gaze_clean.csv\"\n",
    "    json_file = root + f\"times/{name}_posts_times.json\"\n",
    "\n",
    "    df = load_gaze_data(input_file)\n",
    "    json_data = load_json_data(json_file)\n",
    "    df = process_gaze_data(df, json_data)\n",
    "    unique_post_ids = df[\"postID\"].unique()\n",
    "\n",
    "    collect_screenshots(unique_post_ids, name=name, root=root)\n",
    "\n",
    "\n",
    "def collect_screenshots(unique_post_ids, name, root):\n",
    "    for post_id in unique_post_ids:\n",
    "        df_file = pd.read_csv(root + f\"gaze_posts/{name}_gaze_{post_id}.csv\")\n",
    "        image_screenshot = (\n",
    "            root + f\"screenshots/{df_file['screenshot_filename'].iloc[0]}\"\n",
    "        )\n",
    "\n",
    "        new_screenshot_filename = f\"{name}_screenshot_{post_id}.png\"\n",
    "        new_screenshot_path = root + f\"screenshots/{new_screenshot_filename}\"\n",
    "\n",
    "        if os.path.exists(image_screenshot):\n",
    "            os.rename(image_screenshot, new_screenshot_path)"
   ]
  },
  {
   "cell_type": "code",
   "execution_count": 17,
   "metadata": {},
   "outputs": [
    {
     "data": {
      "text/plain": [
       "['gabriel_gaze_20.csv',\n",
       " 'gabriel_gaze_9.csv',\n",
       " 'gabriel_gaze_8.csv',\n",
       " 'gabriel_gaze_18.csv',\n",
       " 'gabriel_gaze_19.csv',\n",
       " 'gabriel_gaze_5.csv',\n",
       " 'gabriel_gaze_17.csv',\n",
       " 'gabriel_gaze_4.csv',\n",
       " 'gabriel_gaze_1.csv',\n",
       " 'gabriel_gaze_3.csv',\n",
       " 'gabriel_gaze_11.csv',\n",
       " 'gabriel_gaze_2.csv']"
      ]
     },
     "execution_count": 17,
     "metadata": {},
     "output_type": "execute_result"
    }
   ],
   "source": [
    "\n",
    "gaze_data = os.listdir(\"gaze_posts\")\n",
    "gaze_data\n",
    "post_ID = "
   ]
  },
  {
   "cell_type": "code",
   "execution_count": 15,
   "metadata": {},
   "outputs": [
    {
     "name": "stdout",
     "output_type": "stream",
     "text": [
      "dataframe filtered           x    y  time_seconds            current_time postID\n",
      "0       935  538      0.049979 2024-06-21 16:36:25.700      1\n",
      "1       972  611      0.066640 2024-06-21 16:36:25.716      1\n",
      "2      1014  686      0.083294 2024-06-21 16:36:25.732      1\n",
      "3       987  652      0.099949 2024-06-21 16:36:25.748      1\n",
      "4       973  656      0.116604 2024-06-21 16:36:25.763      1\n",
      "...     ...  ...           ...                     ...    ...\n",
      "25307   776  769    496.505371 2024-06-21 16:44:42.157      9\n",
      "25308   793  770    496.522025 2024-06-21 16:44:42.172      9\n",
      "25309   792  760    496.538680 2024-06-21 16:44:42.197      9\n",
      "25310   786  759    496.555335 2024-06-21 16:44:42.204      9\n",
      "25311   786  761    496.571989 2024-06-21 16:44:42.220      9\n",
      "\n",
      "[25312 rows x 5 columns]\n",
      "gaze_posts/gabriel_gaze_1.csv screenshots/gabriel_screenshot_1.png scanpath/gabriel_scanpath_1.png\n",
      "python scanpath.py gaze_posts/gabriel_gaze_1.csv screenshots/gabriel_screenshot_1.png scanpath/gabriel_scanpath_1.png\n"
     ]
    },
    {
     "name": "stderr",
     "output_type": "stream",
     "text": [
      "usage: scanpath.py [-h] -i IMAGE_PATH -g GAZE_CSV -o OUTPUT_SCANPATH\n",
      "scanpath.py: error: the following arguments are required: -i/--image_path, -g/--gaze_csv, -o/--output_scanpath\n"
     ]
    },
    {
     "name": "stdout",
     "output_type": "stream",
     "text": [
      "gaze_posts/gabriel_gaze_2.csv screenshots/gabriel_screenshot_2.png scanpath/gabriel_scanpath_2.png\n",
      "python scanpath.py gaze_posts/gabriel_gaze_2.csv screenshots/gabriel_screenshot_2.png scanpath/gabriel_scanpath_2.png\n"
     ]
    },
    {
     "name": "stderr",
     "output_type": "stream",
     "text": [
      "usage: scanpath.py [-h] -i IMAGE_PATH -g GAZE_CSV -o OUTPUT_SCANPATH\n",
      "scanpath.py: error: the following arguments are required: -i/--image_path, -g/--gaze_csv, -o/--output_scanpath\n"
     ]
    },
    {
     "name": "stdout",
     "output_type": "stream",
     "text": [
      "gaze_posts/gabriel_gaze_18.csv screenshots/gabriel_screenshot_18.png scanpath/gabriel_scanpath_18.png\n",
      "python scanpath.py gaze_posts/gabriel_gaze_18.csv screenshots/gabriel_screenshot_18.png scanpath/gabriel_scanpath_18.png\n"
     ]
    },
    {
     "name": "stderr",
     "output_type": "stream",
     "text": [
      "usage: scanpath.py [-h] -i IMAGE_PATH -g GAZE_CSV -o OUTPUT_SCANPATH\n",
      "scanpath.py: error: the following arguments are required: -i/--image_path, -g/--gaze_csv, -o/--output_scanpath\n"
     ]
    },
    {
     "name": "stdout",
     "output_type": "stream",
     "text": [
      "gaze_posts/gabriel_gaze_19.csv screenshots/gabriel_screenshot_19.png scanpath/gabriel_scanpath_19.png\n",
      "python scanpath.py gaze_posts/gabriel_gaze_19.csv screenshots/gabriel_screenshot_19.png scanpath/gabriel_scanpath_19.png\n"
     ]
    },
    {
     "name": "stderr",
     "output_type": "stream",
     "text": [
      "usage: scanpath.py [-h] -i IMAGE_PATH -g GAZE_CSV -o OUTPUT_SCANPATH\n",
      "scanpath.py: error: the following arguments are required: -i/--image_path, -g/--gaze_csv, -o/--output_scanpath\n"
     ]
    },
    {
     "name": "stdout",
     "output_type": "stream",
     "text": [
      "gaze_posts/gabriel_gaze_3.csv screenshots/gabriel_screenshot_3.png scanpath/gabriel_scanpath_3.png\n",
      "python scanpath.py gaze_posts/gabriel_gaze_3.csv screenshots/gabriel_screenshot_3.png scanpath/gabriel_scanpath_3.png\n"
     ]
    },
    {
     "name": "stderr",
     "output_type": "stream",
     "text": [
      "usage: scanpath.py [-h] -i IMAGE_PATH -g GAZE_CSV -o OUTPUT_SCANPATH\n",
      "scanpath.py: error: the following arguments are required: -i/--image_path, -g/--gaze_csv, -o/--output_scanpath\n"
     ]
    },
    {
     "name": "stdout",
     "output_type": "stream",
     "text": [
      "gaze_posts/gabriel_gaze_17.csv screenshots/gabriel_screenshot_17.png scanpath/gabriel_scanpath_17.png\n",
      "python scanpath.py gaze_posts/gabriel_gaze_17.csv screenshots/gabriel_screenshot_17.png scanpath/gabriel_scanpath_17.png\n"
     ]
    },
    {
     "name": "stderr",
     "output_type": "stream",
     "text": [
      "usage: scanpath.py [-h] -i IMAGE_PATH -g GAZE_CSV -o OUTPUT_SCANPATH\n",
      "scanpath.py: error: the following arguments are required: -i/--image_path, -g/--gaze_csv, -o/--output_scanpath\n"
     ]
    },
    {
     "name": "stdout",
     "output_type": "stream",
     "text": [
      "gaze_posts/gabriel_gaze_20.csv screenshots/gabriel_screenshot_20.png scanpath/gabriel_scanpath_20.png\n",
      "python scanpath.py gaze_posts/gabriel_gaze_20.csv screenshots/gabriel_screenshot_20.png scanpath/gabriel_scanpath_20.png\n"
     ]
    },
    {
     "name": "stderr",
     "output_type": "stream",
     "text": [
      "usage: scanpath.py [-h] -i IMAGE_PATH -g GAZE_CSV -o OUTPUT_SCANPATH\n",
      "scanpath.py: error: the following arguments are required: -i/--image_path, -g/--gaze_csv, -o/--output_scanpath\n"
     ]
    },
    {
     "name": "stdout",
     "output_type": "stream",
     "text": [
      "gaze_posts/gabriel_gaze_4.csv screenshots/gabriel_screenshot_4.png scanpath/gabriel_scanpath_4.png\n",
      "python scanpath.py gaze_posts/gabriel_gaze_4.csv screenshots/gabriel_screenshot_4.png scanpath/gabriel_scanpath_4.png\n"
     ]
    },
    {
     "name": "stderr",
     "output_type": "stream",
     "text": [
      "usage: scanpath.py [-h] -i IMAGE_PATH -g GAZE_CSV -o OUTPUT_SCANPATH\n",
      "scanpath.py: error: the following arguments are required: -i/--image_path, -g/--gaze_csv, -o/--output_scanpath\n"
     ]
    },
    {
     "name": "stdout",
     "output_type": "stream",
     "text": [
      "gaze_posts/gabriel_gaze_8.csv screenshots/gabriel_screenshot_8.png scanpath/gabriel_scanpath_8.png\n",
      "python scanpath.py gaze_posts/gabriel_gaze_8.csv screenshots/gabriel_screenshot_8.png scanpath/gabriel_scanpath_8.png\n"
     ]
    },
    {
     "name": "stderr",
     "output_type": "stream",
     "text": [
      "usage: scanpath.py [-h] -i IMAGE_PATH -g GAZE_CSV -o OUTPUT_SCANPATH\n",
      "scanpath.py: error: the following arguments are required: -i/--image_path, -g/--gaze_csv, -o/--output_scanpath\n"
     ]
    },
    {
     "name": "stdout",
     "output_type": "stream",
     "text": [
      "gaze_posts/gabriel_gaze_11.csv screenshots/gabriel_screenshot_11.png scanpath/gabriel_scanpath_11.png\n",
      "python scanpath.py gaze_posts/gabriel_gaze_11.csv screenshots/gabriel_screenshot_11.png scanpath/gabriel_scanpath_11.png\n"
     ]
    },
    {
     "name": "stderr",
     "output_type": "stream",
     "text": [
      "usage: scanpath.py [-h] -i IMAGE_PATH -g GAZE_CSV -o OUTPUT_SCANPATH\n",
      "scanpath.py: error: the following arguments are required: -i/--image_path, -g/--gaze_csv, -o/--output_scanpath\n"
     ]
    },
    {
     "name": "stdout",
     "output_type": "stream",
     "text": [
      "gaze_posts/gabriel_gaze_5.csv screenshots/gabriel_screenshot_5.png scanpath/gabriel_scanpath_5.png\n",
      "python scanpath.py gaze_posts/gabriel_gaze_5.csv screenshots/gabriel_screenshot_5.png scanpath/gabriel_scanpath_5.png\n"
     ]
    },
    {
     "name": "stderr",
     "output_type": "stream",
     "text": [
      "usage: scanpath.py [-h] -i IMAGE_PATH -g GAZE_CSV -o OUTPUT_SCANPATH\n",
      "scanpath.py: error: the following arguments are required: -i/--image_path, -g/--gaze_csv, -o/--output_scanpath\n"
     ]
    },
    {
     "name": "stdout",
     "output_type": "stream",
     "text": [
      "gaze_posts/gabriel_gaze_9.csv screenshots/gabriel_screenshot_9.png scanpath/gabriel_scanpath_9.png\n",
      "python scanpath.py gaze_posts/gabriel_gaze_9.csv screenshots/gabriel_screenshot_9.png scanpath/gabriel_scanpath_9.png\n"
     ]
    },
    {
     "name": "stderr",
     "output_type": "stream",
     "text": [
      "usage: scanpath.py [-h] -i IMAGE_PATH -g GAZE_CSV -o OUTPUT_SCANPATH\n",
      "scanpath.py: error: the following arguments are required: -i/--image_path, -g/--gaze_csv, -o/--output_scanpath\n"
     ]
    }
   ],
   "source": [
    "main()"
   ]
  }
 ],
 "metadata": {
  "kernelspec": {
   "display_name": "eye_tracker",
   "language": "python",
   "name": "python3"
  },
  "language_info": {
   "codemirror_mode": {
    "name": "ipython",
    "version": 3
   },
   "file_extension": ".py",
   "mimetype": "text/x-python",
   "name": "python",
   "nbconvert_exporter": "python",
   "pygments_lexer": "ipython3",
   "version": "3.12.3"
  }
 },
 "nbformat": 4,
 "nbformat_minor": 2
}
